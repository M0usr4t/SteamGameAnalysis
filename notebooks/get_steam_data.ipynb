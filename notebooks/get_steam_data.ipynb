{
 "cells": [
  {
   "cell_type": "markdown",
   "metadata": {},
   "source": [
    "Imports"
   ]
  },
  {
   "cell_type": "code",
   "execution_count": 1,
   "metadata": {},
   "outputs": [],
   "source": [
    "import pandas as pd\n",
    "import requests\n",
    "import time\n",
    "import json\n",
    "import pyarrow.parquet as pq\n",
    "import pyarrow as pa\n",
    "import os\n",
    "import numpy as np"
   ]
  },
  {
   "cell_type": "markdown",
   "metadata": {},
   "source": [
    "<h3>Getting App list</h3>\n",
    "<h4> for games updated within the last 2 months (Access Token needs to be manually refreshed)</h4>"
   ]
  },
  {
   "cell_type": "code",
   "execution_count": 2,
   "metadata": {},
   "outputs": [],
   "source": [
    "six_month_time_frame = int(time.time() - (30*24*60*60))\n",
    "app_list_url = f\"https://api.steampowered.com/IStoreService/GetAppList/v1/?access_token=eyAidHlwIjogIkpXVCIsICJhbGciOiAiRWREU0EiIH0.eyAiaXNzIjogInI6MDAwOV8yNTU1RUVCNl8wMUI4NiIsICJzdWIiOiAiNzY1NjExOTgxNzUxMzI5NzQiLCAiYXVkIjogWyAid2ViOnN0b3JlIiBdLCAiZXhwIjogMTczMTQ1ODcxNCwgIm5iZiI6IDE3MjI3MzEzNTIsICJpYXQiOiAxNzMxMzcxMzUyLCAianRpIjogIjAwMTZfMjU1NUVGNjdfMDRFMjciLCAib2F0IjogMTczMTEwMDE4OCwgInJ0X2V4cCI6IDE3NDkwNDY1MjQsICJwZXIiOiAwLCAiaXBfc3ViamVjdCI6ICIxMDcuMjIxLjEzNy43NSIsICJpcF9jb25maXJtZXIiOiAiMTIuNzUuNDEuODYiIH0.-ofwzKDPW9G9lKwh0klvYQWrZznqi7sXciKZCBdtU_1YfgTKWGTUdQ3UipufF27PdSMbiEaYmQraz_-Gc-8eCQ&if_modified_since={six_month_time_frame}&have_description_language=english&include_games=true&max_results=50000\""
   ]
  },
  {
   "cell_type": "code",
   "execution_count": 3,
   "metadata": {},
   "outputs": [],
   "source": [
    "response = requests.get(app_list_url)\n",
    "if response.status_code == 200:\n",
    "    data = response.json()\n",
    "else:\n",
    "    print(f' Error getting app list from steam: {response.status_code}')\n",
    "    print(f' Error getting app list from steam: {response.text}')\n",
    "app_list_df = pd.DataFrame(data['response']['apps'])\n",
    "app_ids = list(app_list_df['appid'])"
   ]
  },
  {
   "cell_type": "code",
   "execution_count": 4,
   "metadata": {},
   "outputs": [
    {
     "name": "stdout",
     "output_type": "stream",
     "text": [
      "Number of duplicate rows: 0\n",
      "Number of apps to process:  18137\n",
      "Largest appId in list:  3339450\n"
     ]
    }
   ],
   "source": [
    "app_ids.sort()\n",
    "duplicate_count = app_list_df.duplicated().sum()\n",
    "print(f\"Number of duplicate rows: {duplicate_count}\")\n",
    "print(f\"Number of apps to process: \", len(app_ids))\n",
    "print(f\"Largest appId in list: \", max(app_ids))"
   ]
  },
  {
   "cell_type": "markdown",
   "metadata": {},
   "source": [
    "Testing Steam API - App Details Endpoint"
   ]
  },
  {
   "cell_type": "code",
   "execution_count": 5,
   "metadata": {},
   "outputs": [
    {
     "name": "stdout",
     "output_type": "stream",
     "text": [
      "{'10': {'success': True, 'data': {'type': 'game', 'name': 'Counter-Strike', 'steam_appid': 10, 'required_age': 0, 'is_free': False, 'detailed_description': \"Play the world's number 1 online action game. Engage in an incredibly realistic brand of terrorist warfare in this wildly popular team-based game. Ally with teammates to complete strategic missions. Take out enemy sites. Rescue hostages. Your role affects your team's success. Your team's success affects your role.\", 'about_the_game': \"Play the world's number 1 online action game. Engage in an incredibly realistic brand of terrorist warfare in this wildly popular team-based game. Ally with teammates to complete strategic missions. Take out enemy sites. Rescue hostages. Your role affects your team's success. Your team's success affects your role.\", 'short_description': \"Play the world's number 1 online action game. Engage in an incredibly realistic brand of terrorist warfare in this wildly popular team-based game. Ally with teammates to complete strategic missions. Take out enemy sites. Rescue hostages. Your role affects your team's success. Your team's success affects your role.\", 'supported_languages': 'English<strong>*</strong>, French<strong>*</strong>, German<strong>*</strong>, Italian<strong>*</strong>, Spanish - Spain<strong>*</strong>, Simplified Chinese<strong>*</strong>, Traditional Chinese<strong>*</strong>, Korean<strong>*</strong><br><strong>*</strong>languages with full audio support', 'header_image': 'https://shared.akamai.steamstatic.com/store_item_assets/steam/apps/10/header.jpg?t=1729702322', 'capsule_image': 'https://shared.akamai.steamstatic.com/store_item_assets/steam/apps/10/capsule_231x87.jpg?t=1729702322', 'capsule_imagev5': 'https://shared.akamai.steamstatic.com/store_item_assets/steam/apps/10/capsule_184x69.jpg?t=1729702322', 'website': None, 'pc_requirements': {'minimum': '\\r\\n\\t\\t\\t<p><strong>Minimum:</strong> 500 mhz processor, 96mb ram, 16mb video card, Windows XP, Mouse, Keyboard, Internet Connection<br /></p>\\r\\n\\t\\t\\t<p><strong>Recommended:</strong> 800 mhz processor, 128mb ram, 32mb+ video card, Windows XP, Mouse, Keyboard, Internet Connection<br /></p>\\r\\n\\t\\t\\t'}, 'mac_requirements': {'minimum': 'Minimum: OS X  Snow Leopard 10.6.3, 1GB RAM, 4GB Hard Drive Space,NVIDIA GeForce 8 or higher, ATI X1600 or higher, or Intel HD 3000 or higher Mouse, Keyboard, Internet Connection'}, 'linux_requirements': {'minimum': 'Minimum: Linux Ubuntu 12.04, Dual-core from Intel or AMD at 2.8 GHz, 1GB Memory, nVidia GeForce 8600/9600GT, ATI/AMD Radeaon HD2600/3600 (Graphic Drivers: nVidia 310, AMD 12.11), OpenGL 2.1, 4GB Hard Drive Space, OpenAL Compatible Sound Card'}, 'developers': ['Valve'], 'publishers': ['Valve'], 'price_overview': {'currency': 'USD', 'initial': 999, 'final': 999, 'discount_percent': 0, 'initial_formatted': '', 'final_formatted': '$9.99'}, 'packages': [574941, 7], 'package_groups': [{'name': 'default', 'title': 'Buy Counter-Strike', 'description': '', 'selection_text': 'Select a purchase option', 'save_text': '', 'display_type': 0, 'is_recurring_subscription': 'false', 'subs': [{'packageid': 7, 'percent_savings_text': ' ', 'percent_savings': 0, 'option_text': 'Counter-Strike: Condition Zero - $9.99', 'option_description': '', 'can_get_free_license': '0', 'is_free_license': False, 'price_in_cents_with_discount': 999}, {'packageid': 574941, 'percent_savings_text': ' ', 'percent_savings': 0, 'option_text': 'Counter-Strike - Commercial License - $9.99', 'option_description': '', 'can_get_free_license': '0', 'is_free_license': False, 'price_in_cents_with_discount': 999}]}], 'platforms': {'windows': True, 'mac': True, 'linux': True}, 'metacritic': {'score': 88, 'url': 'https://www.metacritic.com/game/pc/counter-strike?ftag=MCD-06-10aaa1f'}, 'categories': [{'id': 1, 'description': 'Multi-player'}, {'id': 49, 'description': 'PvP'}, {'id': 36, 'description': 'Online PvP'}, {'id': 37, 'description': 'Shared/Split Screen PvP'}, {'id': 8, 'description': 'Valve Anti-Cheat enabled'}, {'id': 62, 'description': 'Family Sharing'}], 'genres': [{'id': '1', 'description': 'Action'}], 'screenshots': [{'id': 0, 'path_thumbnail': 'https://shared.akamai.steamstatic.com/store_item_assets/steam/apps/10/0000000132.600x338.jpg?t=1729702322', 'path_full': 'https://shared.akamai.steamstatic.com/store_item_assets/steam/apps/10/0000000132.1920x1080.jpg?t=1729702322'}, {'id': 1, 'path_thumbnail': 'https://shared.akamai.steamstatic.com/store_item_assets/steam/apps/10/0000000133.600x338.jpg?t=1729702322', 'path_full': 'https://shared.akamai.steamstatic.com/store_item_assets/steam/apps/10/0000000133.1920x1080.jpg?t=1729702322'}, {'id': 2, 'path_thumbnail': 'https://shared.akamai.steamstatic.com/store_item_assets/steam/apps/10/0000000134.600x338.jpg?t=1729702322', 'path_full': 'https://shared.akamai.steamstatic.com/store_item_assets/steam/apps/10/0000000134.1920x1080.jpg?t=1729702322'}, {'id': 3, 'path_thumbnail': 'https://shared.akamai.steamstatic.com/store_item_assets/steam/apps/10/0000000135.600x338.jpg?t=1729702322', 'path_full': 'https://shared.akamai.steamstatic.com/store_item_assets/steam/apps/10/0000000135.1920x1080.jpg?t=1729702322'}, {'id': 4, 'path_thumbnail': 'https://shared.akamai.steamstatic.com/store_item_assets/steam/apps/10/0000000136.600x338.jpg?t=1729702322', 'path_full': 'https://shared.akamai.steamstatic.com/store_item_assets/steam/apps/10/0000000136.1920x1080.jpg?t=1729702322'}, {'id': 5, 'path_thumbnail': 'https://shared.akamai.steamstatic.com/store_item_assets/steam/apps/10/0000002540.600x338.jpg?t=1729702322', 'path_full': 'https://shared.akamai.steamstatic.com/store_item_assets/steam/apps/10/0000002540.1920x1080.jpg?t=1729702322'}, {'id': 6, 'path_thumbnail': 'https://shared.akamai.steamstatic.com/store_item_assets/steam/apps/10/0000002539.600x338.jpg?t=1729702322', 'path_full': 'https://shared.akamai.steamstatic.com/store_item_assets/steam/apps/10/0000002539.1920x1080.jpg?t=1729702322'}, {'id': 7, 'path_thumbnail': 'https://shared.akamai.steamstatic.com/store_item_assets/steam/apps/10/0000002538.600x338.jpg?t=1729702322', 'path_full': 'https://shared.akamai.steamstatic.com/store_item_assets/steam/apps/10/0000002538.1920x1080.jpg?t=1729702322'}, {'id': 8, 'path_thumbnail': 'https://shared.akamai.steamstatic.com/store_item_assets/steam/apps/10/0000002537.600x338.jpg?t=1729702322', 'path_full': 'https://shared.akamai.steamstatic.com/store_item_assets/steam/apps/10/0000002537.1920x1080.jpg?t=1729702322'}, {'id': 9, 'path_thumbnail': 'https://shared.akamai.steamstatic.com/store_item_assets/steam/apps/10/0000002536.600x338.jpg?t=1729702322', 'path_full': 'https://shared.akamai.steamstatic.com/store_item_assets/steam/apps/10/0000002536.1920x1080.jpg?t=1729702322'}, {'id': 10, 'path_thumbnail': 'https://shared.akamai.steamstatic.com/store_item_assets/steam/apps/10/0000002541.600x338.jpg?t=1729702322', 'path_full': 'https://shared.akamai.steamstatic.com/store_item_assets/steam/apps/10/0000002541.1920x1080.jpg?t=1729702322'}, {'id': 11, 'path_thumbnail': 'https://shared.akamai.steamstatic.com/store_item_assets/steam/apps/10/0000002542.600x338.jpg?t=1729702322', 'path_full': 'https://shared.akamai.steamstatic.com/store_item_assets/steam/apps/10/0000002542.1920x1080.jpg?t=1729702322'}, {'id': 12, 'path_thumbnail': 'https://shared.akamai.steamstatic.com/store_item_assets/steam/apps/10/0000002543.600x338.jpg?t=1729702322', 'path_full': 'https://shared.akamai.steamstatic.com/store_item_assets/steam/apps/10/0000002543.1920x1080.jpg?t=1729702322'}], 'recommendations': {'total': 153921}, 'release_date': {'coming_soon': False, 'date': 'Nov 1, 2000'}, 'support_info': {'url': 'http://steamcommunity.com/app/10', 'email': ''}, 'background': 'https://shared.akamai.steamstatic.com/store_item_assets/steam/apps/10/page_bg_generated_v6b.jpg?t=1729702322', 'background_raw': 'https://shared.akamai.steamstatic.com/store_item_assets/steam/apps/10/page_bg_generated.jpg?t=1729702322', 'content_descriptors': {'ids': [2, 5], 'notes': 'Includes intense violence and blood.'}, 'ratings': {'usk': {'rating': '16'}, 'dejus': {'rating_generated': '1', 'rating': '14', 'required_age': '14', 'banned': '0', 'use_age_gate': '0', 'descriptors': 'Violência'}, 'steam_germany': {'rating_generated': '1', 'rating': '16', 'required_age': '16', 'banned': '0', 'use_age_gate': '0', 'descriptors': 'Drastische Gewalt'}}}}}\n"
     ]
    }
   ],
   "source": [
    "test_app_details_url = f\"https://store.steampowered.com/api/appdetails?appids={10}\"\n",
    "test_response = requests.get(test_app_details_url)\n",
    "test_data = test_response.json()\n",
    "print(test_data)"
   ]
  },
  {
   "cell_type": "code",
   "execution_count": 6,
   "metadata": {},
   "outputs": [
    {
     "name": "stdout",
     "output_type": "stream",
     "text": [
      "Developers: ['Valve']\n",
      "Publishers: ['Valve']\n",
      "Price Overview: {'currency': 'USD', 'initial': 999, 'final': 999, 'discount_percent': 0, 'initial_formatted': '', 'final_formatted': '$9.99'}\n",
      "Platforms: {'windows': True, 'mac': True, 'linux': True}\n",
      "Metacritic: {'score': 88, 'url': 'https://www.metacritic.com/game/pc/counter-strike?ftag=MCD-06-10aaa1f'}\n",
      "Categories: [{'id': 1, 'description': 'Multi-player'}, {'id': 49, 'description': 'PvP'}, {'id': 36, 'description': 'Online PvP'}, {'id': 37, 'description': 'Shared/Split Screen PvP'}, {'id': 8, 'description': 'Valve Anti-Cheat enabled'}, {'id': 62, 'description': 'Family Sharing'}]\n",
      "Genres: [{'id': '1', 'description': 'Action'}]\n",
      "Release Date: {'coming_soon': False, 'date': 'Nov 1, 2000'}\n"
     ]
    }
   ],
   "source": [
    "test_app_data = test_data['10']['data']\n",
    "\n",
    "developers = test_app_data.get('developers', [])\n",
    "publishers = test_app_data.get('publishers', [])\n",
    "price_overview = test_app_data.get('price_overview', {})\n",
    "platforms = test_app_data.get('platforms', {})\n",
    "metacritic = test_app_data.get('metacritic', {})\n",
    "categories = test_app_data.get('categories', [])\n",
    "genres = test_app_data.get('genres', [])\n",
    "release_date = test_app_data.get('release_date', {})\n",
    "\n",
    "print(\"Developers:\", developers)\n",
    "print(\"Publishers:\", publishers)\n",
    "print(\"Price Overview:\", price_overview)\n",
    "print(\"Platforms:\", platforms)\n",
    "print(\"Metacritic:\", metacritic)\n",
    "print(\"Categories:\", categories)\n",
    "print(\"Genres:\", genres)\n",
    "print(\"Release Date:\", release_date)"
   ]
  },
  {
   "cell_type": "markdown",
   "metadata": {},
   "source": [
    "Getting app details from Steam"
   ]
  },
  {
   "cell_type": "code",
   "execution_count": null,
   "metadata": {},
   "outputs": [],
   "source": [
    "steam_apps_parquet_file = '../data/steam_app_details.parquet'\n",
    "steam_apps_json_cache = '../data/processed_steam_apps.json'\n",
    "batch_size = 200\n",
    "batch_data = []"
   ]
  },
  {
   "cell_type": "code",
   "execution_count": null,
   "metadata": {},
   "outputs": [],
   "source": [
    "steam_apps_schema = pa.schema([\n",
    "    ('appid', pa.string()),\n",
    "    ('name', pa.string()),\n",
    "    ('developers', pa.list_(pa.string())),\n",
    "    ('publishers', pa.list_(pa.string())),\n",
    "    ('initial_price', pa.float64()),\n",
    "    ('final_price', pa.float64()),\n",
    "    ('platforms', pa.struct([\n",
    "        ('linux', pa.bool_()),\n",
    "        ('mac', pa.bool_()),\n",
    "        ('windows', pa.bool_())\n",
    "    ])),\n",
    "    ('metacritic', pa.float64()),  \n",
    "    ('genres', pa.list_(pa.struct([\n",
    "        ('description', pa.string()),\n",
    "        ('id', pa.string())\n",
    "    ]))),\n",
    "    ('release_date', pa.string())\n",
    "])"
   ]
  },
  {
   "cell_type": "code",
   "execution_count": 27,
   "metadata": {},
   "outputs": [],
   "source": [
    "try:\n",
    "    with open(steam_apps_json_cache,'r') as f:\n",
    "        processed_apps = set(json.load(f))\n",
    "except FileNotFoundError:\n",
    "    processed_apps = set()"
   ]
  },
  {
   "cell_type": "code",
   "execution_count": 36,
   "metadata": {},
   "outputs": [],
   "source": [
    "def fetch_steam_app_details(app_id):\n",
    "    while True:\n",
    "        try:\n",
    "            response = requests.get(f\"https://store.steampowered.com/api/appdetails?appids={app_id}\")\n",
    "            app_id = str(app_id)\n",
    "            if response.status_code == 200:\n",
    "                data = response.json()\n",
    "                if app_id in data and data[app_id].get('success', False):\n",
    "                    app_data = data[app_id].get('data', {})\n",
    "                    return (\n",
    "                        {\n",
    "                            'appid': app_id,\n",
    "                            'name': app_data.get('name', \"Unknown\"),\n",
    "                            'developers': app_data.get('developers', []),\n",
    "                            'publishers': app_data.get('publishers', []),\n",
    "                            'initial_price': app_data.get('price_overview', {}).get('initial', float('nan')),\n",
    "                            'final_price': app_data.get('price_overview', {}).get('final', float('nan')),\n",
    "                            'platforms': app_data.get('platforms', {'linux': False, 'mac': False, 'windows': False}),\n",
    "                            'metacritic': app_data.get('metacritic', {}).get('score', float('nan')),\n",
    "                            'genres': app_data.get('genres', []),\n",
    "                            'release_date': app_data.get('release_date', {}).get('date', \"Unknown\")\n",
    "                        }\n",
    "                    )\n",
    "                else:\n",
    "                    return None\n",
    "            elif response.status_code == 429:\n",
    "                    print(f\"Status code {response.status_code} for {app_id}. ZZZZzzzzz respecting stupid rate limits...\")\n",
    "                    time.sleep(300)\n",
    "            elif response.status_code == 403:\n",
    "                raise Exception(\"403 Forbidden: Mission failed soldier, We\\\"ll get \\'em next time....\")\n",
    "            else:\n",
    "                print(f\"Failed to fetch data for appid, {app_id}, with status code {response.status_code}\")\n",
    "                return None\n",
    "        except requests.exceptions.JSONDecodeError:\n",
    "            print(f\"Failed to decode JSON for appid {app_id}\")\n",
    "            return None"
   ]
  },
  {
   "cell_type": "code",
   "execution_count": 15,
   "metadata": {},
   "outputs": [],
   "source": [
    "def write_to_parquet(batch, file, schema):\n",
    "    df = pd.DataFrame(batch)\n",
    "    table = pa.Table.from_pandas(df, schema=schema)\n",
    "\n",
    "    if os.path.exists(file):\n",
    "        existing_data = pq.read_table(file)\n",
    "        combined_data = pa.concat_tables([existing_data, table])\n",
    "        pq.write_table(combined_data, file)\n",
    "    else:\n",
    "        pq.write_table(table,file)"
   ]
  },
  {
   "cell_type": "code",
   "execution_count": 37,
   "metadata": {},
   "outputs": [
    {
     "name": "stdout",
     "output_type": "stream",
     "text": [
      "Failed to decode JSON for appid 3168870\n",
      "Status code 429 for 3175650. ZZZZzzzzz respecting stupid rate limits...\n",
      "Failed to decode JSON for appid 3187750\n",
      "Status code 429 for 3188360. ZZZZzzzzz respecting stupid rate limits...\n",
      "Status code 429 for 3199760. ZZZZzzzzz respecting stupid rate limits...\n",
      "Status code 429 for 3212120. ZZZZzzzzz respecting stupid rate limits...\n",
      "Status code 429 for 3224480. ZZZZzzzzz respecting stupid rate limits...\n",
      "Status code 429 for 3235600. ZZZZzzzzz respecting stupid rate limits...\n",
      "Status code 429 for 3247480. ZZZZzzzzz respecting stupid rate limits...\n",
      "Status code 429 for 3258370. ZZZZzzzzz respecting stupid rate limits...\n",
      "Status code 429 for 3268180. ZZZZzzzzz respecting stupid rate limits...\n",
      "Status code 429 for 3277840. ZZZZzzzzz respecting stupid rate limits...\n",
      "Status code 429 for 3288100. ZZZZzzzzz respecting stupid rate limits...\n",
      "Status code 429 for 3296840. ZZZZzzzzz respecting stupid rate limits...\n",
      "Status code 429 for 3305370. ZZZZzzzzz respecting stupid rate limits...\n",
      "Status code 429 for 3316590. ZZZZzzzzz respecting stupid rate limits...\n",
      "Status code 429 for 3329490. ZZZZzzzzz respecting stupid rate limits...\n"
     ]
    }
   ],
   "source": [
    "for app_id in app_ids:\n",
    "    if app_id in processed_apps:\n",
    "        continue\n",
    "\n",
    "    app = fetch_steam_app_details(app_id)\n",
    "\n",
    "    if app is not None:\n",
    "        batch_data.append(app)\n",
    "        processed_apps.add(app_id)\n",
    "\n",
    "    if len(batch_data) >= batch_size:\n",
    "        write_to_parquet(batch_data, steam_apps_parquet_file, steam_apps_schema)\n",
    "        batch_data = []\n",
    "        with open(steam_apps_json_cache, 'w') as f:\n",
    "            json.dump(list(processed_apps), f)\n",
    "\n",
    "if batch_data:\n",
    "    write_to_parquet(batch_data, steam_apps_parquet_file, steam_apps_schema)\n",
    "\n",
    "with open(steam_apps_json_cache, 'w') as f:\n",
    "    json.dump(list(processed_apps), f)"
   ]
  },
  {
   "cell_type": "markdown",
   "metadata": {},
   "source": [
    "Resetting appids list"
   ]
  },
  {
   "cell_type": "code",
   "execution_count": null,
   "metadata": {},
   "outputs": [
    {
     "name": "stdout",
     "output_type": "stream",
     "text": [
      "18096\n",
      "18096\n"
     ]
    }
   ],
   "source": [
    "current_data = pq.read_table('../data/steam_app_details.parquet')\n",
    "temp_df = pa.Table.to_pandas(current_data)\n",
    "print(len(temp_df))\n",
    "app_ids = list(temp_df['appid'])\n",
    "print(len(app_ids))\n",
    "del temp_df\n",
    "del current_data"
   ]
  },
  {
   "cell_type": "markdown",
   "metadata": {},
   "source": [
    "Testing SteamSpy API"
   ]
  },
  {
   "cell_type": "code",
   "execution_count": 16,
   "metadata": {},
   "outputs": [
    {
     "name": "stdout",
     "output_type": "stream",
     "text": [
      "{'appid': 10, 'name': 'Counter-Strike', 'developer': 'Valve', 'publisher': 'Valve', 'score_rank': '', 'positive': 236255, 'negative': 6239, 'userscore': 0, 'owners': '10,000,000 .. 20,000,000', 'average_forever': 0, 'average_2weeks': 0, 'median_forever': 0, 'median_2weeks': 0, 'price': '999', 'initialprice': '999', 'discount': '0', 'ccu': 14998, 'languages': 'English, French, German, Italian, Spanish - Spain, Simplified Chinese, Traditional Chinese, Korean', 'genre': 'Action', 'tags': {'Action': 5480, 'FPS': 4908, 'Multiplayer': 3455, 'Shooter': 3408, 'Classic': 2831, 'Team-Based': 1905, 'First-Person': 1747, 'Competitive': 1640, 'Tactical': 1379, \"1990's\": 1235, 'e-sports': 1222, 'PvP': 915, 'Old School': 813, 'Military': 657, 'Strategy': 630, 'Survival': 316, 'Score Attack': 297, '1980s': 279, 'Assassin': 238, 'Nostalgia': 186}}\n"
     ]
    }
   ],
   "source": [
    "test_steam_spy_response = requests.get(f\"https://steamspy.com/api.php?request=appdetails&appid={10}\")\n",
    "test_data = test_steam_spy_response.json()\n",
    "print(test_data)"
   ]
  },
  {
   "cell_type": "code",
   "execution_count": 18,
   "metadata": {},
   "outputs": [
    {
     "name": "stdout",
     "output_type": "stream",
     "text": [
      "appid: int\n",
      "name: str\n",
      "developer: str\n",
      "publisher: str\n",
      "score_rank: str\n",
      "positive: int\n",
      "negative: int\n",
      "userscore: int\n",
      "owners: str\n",
      "average_forever: int\n",
      "average_2weeks: int\n",
      "median_forever: int\n",
      "median_2weeks: int\n",
      "price: str\n",
      "initialprice: str\n",
      "discount: str\n",
      "ccu: int\n",
      "languages: str\n",
      "genre: str\n",
      "tags: dict\n"
     ]
    }
   ],
   "source": [
    "for key, value in test_data.items():\n",
    "    print(f\"{key}: {type(value).__name__}\")"
   ]
  },
  {
   "cell_type": "markdown",
   "metadata": {},
   "source": [
    "Getting data from steam spy"
   ]
  },
  {
   "cell_type": "code",
   "execution_count": 25,
   "metadata": {},
   "outputs": [],
   "source": [
    "steam_spy_schema = pa.schema([\n",
    "    ('appid', pa.int32()),\n",
    "    ('score_rank', pa.string()),\n",
    "    ('positive', pa.int32()),\n",
    "    ('negative', pa.int32()),\n",
    "    ('userscore', pa.int32()),\n",
    "    ('owners',  pa.string()),\n",
    "    ('average_playtime',  pa.int32()),\n",
    "    ('average_playtime_2weeks',  pa.int32()),\n",
    "    ('median_playtime',  pa.int32()),\n",
    "    ('median_playtime_2weeks',  pa.int32()),\n",
    "    ('ccu',  pa.int32()),\n",
    "    ('current_price', pa.string()),\n",
    "    ('initial_price', pa.string())\n",
    "])"
   ]
  },
  {
   "cell_type": "code",
   "execution_count": null,
   "metadata": {},
   "outputs": [],
   "source": [
    "steam_spy_parquet_file = '../data/steam_spy_details.parquet'\n",
    "steam_spy_json_cache = '../data/processed_steam_spy_apps.json'\n",
    "batch_size = 200\n",
    "batch_data = []"
   ]
  },
  {
   "cell_type": "code",
   "execution_count": 27,
   "metadata": {},
   "outputs": [],
   "source": [
    "try:\n",
    "    with open(steam_spy_json_cache,'r') as f:\n",
    "        steam_spy_processed_apps = set(json.load(f))\n",
    "except FileNotFoundError:\n",
    "    steam_spy_processed_apps = set()"
   ]
  },
  {
   "cell_type": "code",
   "execution_count": 29,
   "metadata": {},
   "outputs": [],
   "source": [
    "def fetch_steam_spy_apps(app_id):\n",
    "    response = requests.get(f\"https://steamspy.com/api.php?request=appdetails&appid={app_id}\")\n",
    "    if response.status_code == 200:\n",
    "        app_id = int(app_id)\n",
    "        try:\n",
    "            data = response.json() \n",
    "            return {\n",
    "                'appid': app_id,\n",
    "                'score_rank': str(data.get('score_rank', '')) if data.get('score_rank') is not None else None,\n",
    "                'positive':  data.get('positive', None),\n",
    "                'negative': data.get('negative', None),\n",
    "                'userscore': data.get('userscore', None),\n",
    "                'owners':  data.get('owners', None),\n",
    "                'average_playtime':  data.get('average_forever', None),\n",
    "                'average_playtime_2weeks': data.get('average_2weeks', None),\n",
    "                'median_playtime':  data.get('median_forever', None),\n",
    "                'median_playtime_2weeks':  data.get('median_2weeks', None),\n",
    "                'ccu': data.get('ccu', None),\n",
    "                'current_price': data.get('price', None),\n",
    "                'initial_price': data.get('initialprice', None)\n",
    "\n",
    "            }\n",
    "        except requests.exceptions.JSONDecodeError:\n",
    "            print(f\"Failed to decode JSON for appid {app_id}\")\n",
    "            return None\n",
    "    else:\n",
    "        print(f\"Error fetching {app_id} data: response code {response.status_code}\")\n"
   ]
  },
  {
   "cell_type": "code",
   "execution_count": 30,
   "metadata": {},
   "outputs": [],
   "source": [
    "for app_id in app_ids:\n",
    "    if app_id in steam_spy_processed_apps:\n",
    "        continue\n",
    "\n",
    "    app = fetch_steam_spy_apps(app_id)\n",
    "    time.sleep(0.5)\n",
    "    \n",
    "    if app is not None:\n",
    "        batch_data.append(app)\n",
    "        steam_spy_processed_apps.add(app_id)\n",
    "\n",
    "    if len(batch_data) >= batch_size:\n",
    "        write_to_parquet(batch_data, steam_spy_parquet_file, steam_spy_schema)\n",
    "        batch_data = []\n",
    "        with open(steam_spy_json_cache, 'w') as f:\n",
    "            json.dump(list(steam_spy_processed_apps), f)\n",
    "\n",
    "if batch_data:\n",
    "    write_to_parquet(batch_data, steam_spy_parquet_file, steam_spy_schema)\n",
    "\n",
    "with open(steam_spy_json_cache, 'w') as f:\n",
    "    json.dump(list(steam_spy_processed_apps), f)"
   ]
  }
 ],
 "metadata": {
  "kernelspec": {
   "display_name": "Python 3",
   "language": "python",
   "name": "python3"
  },
  "language_info": {
   "codemirror_mode": {
    "name": "ipython",
    "version": 3
   },
   "file_extension": ".py",
   "mimetype": "text/x-python",
   "name": "python",
   "nbconvert_exporter": "python",
   "pygments_lexer": "ipython3",
   "version": "3.12.6"
  }
 },
 "nbformat": 4,
 "nbformat_minor": 2
}
